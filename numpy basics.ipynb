{
 "cells": [
  {
   "cell_type": "code",
   "execution_count": 1,
   "id": "d87d5da3",
   "metadata": {},
   "outputs": [
    {
     "name": "stdout",
     "output_type": "stream",
     "text": [
      "hello world\n"
     ]
    }
   ],
   "source": [
    "print(\"hello world\")"
   ]
  },
  {
   "cell_type": "code",
   "execution_count": 14,
   "id": "b3af3a6c",
   "metadata": {},
   "outputs": [
    {
     "name": "stdout",
     "output_type": "stream",
     "text": [
      "23\n"
     ]
    }
   ],
   "source": [
    "import numpy as np\n",
    "a=12\n",
    "b=11\n",
    "ds=np.add(a,b)\n",
    "print(ds)"
   ]
  },
  {
   "cell_type": "code",
   "execution_count": 23,
   "id": "9fb5c843",
   "metadata": {},
   "outputs": [
    {
     "name": "stdout",
     "output_type": "stream",
     "text": [
      "[0. 0. 0.]\n"
     ]
    }
   ],
   "source": [
    "import numpy as np\n",
    "a=np.zeros(3)\n",
    "print(a)"
   ]
  },
  {
   "cell_type": "code",
   "execution_count": 20,
   "id": "bcb056ba",
   "metadata": {},
   "outputs": [
    {
     "name": "stdout",
     "output_type": "stream",
     "text": [
      "Matrix a : \n",
      " [0 0 0]\n",
      "\n",
      "Matrix b : \n",
      " [[0 0 0]\n",
      " [0 0 0]\n",
      " [0 0 0]]\n"
     ]
    }
   ],
   "source": [
    "# Python Program to create array with all zeros\n",
    "import numpy as geek\n",
    "\n",
    "a = geek.zeros(3, dtype = int)\n",
    "print(\"Matrix a : \\n\", a)\n",
    "\n",
    "b = geek.zeros([3, 3], dtype = int)\n",
    "print(\"\\nMatrix b : \\n\", b)\n"
   ]
  },
  {
   "cell_type": "code",
   "execution_count": 25,
   "id": "503d43da",
   "metadata": {},
   "outputs": [
    {
     "name": "stdout",
     "output_type": "stream",
     "text": [
      "[1 1 1]\n"
     ]
    }
   ],
   "source": [
    "a=np.ones(3,dtype=int)\n",
    "print(a)"
   ]
  },
  {
   "cell_type": "code",
   "execution_count": 46,
   "id": "6e8115b8",
   "metadata": {},
   "outputs": [
    {
     "name": "stdout",
     "output_type": "stream",
     "text": [
      "0.5126728707708105 0.7869232404143331 0.01668557296573392 0.857210775582557 \n",
      "0.7171238336787668 0.13458012716842138 0.3935053044157628 0.9207185545496476 \n",
      "0.12772793759784729 0.05664041531736752 0.8331318777576545 0.9354064821754793 \n"
     ]
    }
   ],
   "source": [
    "import numpy as np\n",
    "\n",
    "arr=np.random.rand(3,4)\n",
    "\n",
    "# Print the array using a loop\n",
    "for row in arr:\n",
    "    for val in row:\n",
    "        print(val, end=' ')\n",
    "    print()\n"
   ]
  },
  {
   "cell_type": "code",
   "execution_count": 47,
   "id": "e45c9a59",
   "metadata": {},
   "outputs": [
    {
     "name": "stdout",
     "output_type": "stream",
     "text": [
      "[[ 1.    0.    0.    0.  ]\n",
      " [ 0.    0.    3.14  0.  ]\n",
      " [ 0.   -2.    0.    0.  ]]\n"
     ]
    }
   ],
   "source": [
    "import numpy as np\n",
    "\n",
    "# Initialize a numpy array of shape (3, 4) with zeros\n",
    "arr = np.zeros((3, 4))\n",
    "\n",
    "# Enter values into the array\n",
    "arr[0, 0] = 1\n",
    "arr[1, 2] = 3.14\n",
    "arr[2, 1] = -2\n",
    "\n",
    "# Print the array\n",
    "print(arr)"
   ]
  },
  {
   "cell_type": "code",
   "execution_count": 51,
   "id": "b42dad3d",
   "metadata": {},
   "outputs": [
    {
     "name": "stdout",
     "output_type": "stream",
     "text": [
      "Enter size: 3\n",
      "Enter value 1: 1\n",
      "Enter value 2: 2\n",
      "Enter value 3: 3\n",
      "[1 2 3]\n"
     ]
    }
   ],
   "source": [
    "import numpy as np\n",
    "\n",
    "# Get the size of the array from the user\n",
    "size = int(input(\"Enter size: \"))\n",
    "\n",
    "# Initialize a numpy array of shape (size) with zeros\n",
    "arr = np.zeros((size),dtype=int)\n",
    "\n",
    "# Enter values into the array using input statements\n",
    "for i in range(size):\n",
    "    value = int(input(\"Enter value {}: \".format(i+1)))\n",
    "    arr[i] = value\n",
    "\n",
    "# Print the array\n",
    "print(arr)\n"
   ]
  },
  {
   "cell_type": "code",
   "execution_count": 57,
   "id": "fd07db4c",
   "metadata": {},
   "outputs": [
    {
     "name": "stdout",
     "output_type": "stream",
     "text": [
      "1 occurs 0 times\n",
      "2 occurs 1 times\n",
      "3 occurs 5 times\n",
      "4 occurs 2 times\n"
     ]
    }
   ],
   "source": [
    "import numpy as np\n",
    "\n",
    "# Create a numpy array of integers\n",
    "arr = np.array([1, 2, 4, 1, 2, 3, 1, 2, 1])\n",
    "\n",
    "# Get the unique values and their counts using numpy's unique function\n",
    "unique_vals, counts = np.unique(arr,return_index=True)\n",
    "\n",
    "# Print the unique values and their counts\n",
    "for val, count in zip(unique_vals, counts):\n",
    "    print(\"{} occurs {} times\".format(val, count))\n"
   ]
  },
  {
   "cell_type": "code",
   "execution_count": 58,
   "id": "4dff240e",
   "metadata": {},
   "outputs": [
    {
     "name": "stdout",
     "output_type": "stream",
     "text": [
      "Original array:\n",
      "Counter({1: 4, 2: 2, 3: 1, 4: 1, 5: 1, 9: 1})\n"
     ]
    }
   ],
   "source": [
    "import collections\n",
    "x = np.array([1,2,3,4,5,1,2,1,9,1])\n",
    "print(\"Original array:\")\n",
    "counter = collections.Counter(x)\n",
    "print(counter)"
   ]
  },
  {
   "cell_type": "code",
   "execution_count": 61,
   "id": "92c26095",
   "metadata": {},
   "outputs": [
    {
     "name": "stdout",
     "output_type": "stream",
     "text": [
      "enter a number1\n",
      "1 occurs 1 times in the array.\n"
     ]
    }
   ],
   "source": [
    "arr=np.array([1,2,4,5])\n",
    "value=int(input(\"enter a number\"))\n",
    "count=np.count_nonzero(arr==value)\n",
    "print(\"{} occurs {} times in the array.\".format(value,count))"
   ]
  },
  {
   "cell_type": "code",
   "execution_count": 62,
   "id": "aad39c61",
   "metadata": {},
   "outputs": [
    {
     "name": "stdout",
     "output_type": "stream",
     "text": [
      "There are 9 values in the array that are less than 4.\n"
     ]
    }
   ],
   "source": [
    "import numpy as np\n",
    "\n",
    "# Create a numpy array of integers\n",
    "arr = np.array([1, 2, 3, 4, 1, 2, 3, 1, 2, 1])\n",
    "\n",
    "# Count the number of values in the array that are less than 4 using numpy's count_nonzero function\n",
    "count = np.count_nonzero(arr < 4)\n",
    "\n",
    "# Print the count\n",
    "print(\"There are {} values in the array that are less than 4.\".format(count))\n"
   ]
  },
  {
   "cell_type": "code",
   "execution_count": 63,
   "id": "a2fdf1c3",
   "metadata": {},
   "outputs": [
    {
     "name": "stdout",
     "output_type": "stream",
     "text": [
      "2 is in the array.\n",
      "5 is in the array.\n",
      "7 is not in the array.\n"
     ]
    }
   ],
   "source": [
    "import numpy as np\n",
    "\n",
    "# Create a numpy array of integers\n",
    "arr = np.array([1, 2, 3, 4, 5])\n",
    "\n",
    "# Specify the values to check\n",
    "values = [2, 5, 7]\n",
    "\n",
    "# Check whether each value is in the array using the in operator\n",
    "for value in values:\n",
    "    if value in arr:\n",
    "        print(\"{} is in the array.\".format(value))\n",
    "    else:\n",
    "        print(\"{} is not in the array.\".format(value))\n"
   ]
  },
  {
   "cell_type": "code",
   "execution_count": 64,
   "id": "4b557738",
   "metadata": {},
   "outputs": [
    {
     "name": "stdout",
     "output_type": "stream",
     "text": [
      "The maximum element is 5 and the minimum element is 1.\n"
     ]
    }
   ],
   "source": [
    "import numpy as np\n",
    "\n",
    "# Create a numpy array of integers\n",
    "arr = np.array([1, 2, 3, 4, 5])\n",
    "\n",
    "# Find the maximum and minimum element using numpy's max and min functions\n",
    "max_element = np.max(arr)\n",
    "min_element = np.min(arr)\n",
    "\n",
    "# Print the maximum and minimum element\n",
    "print(\"The maximum element is {} and the minimum element is {}.\".format(max_element, min_element))\n"
   ]
  },
  {
   "cell_type": "code",
   "execution_count": null,
   "id": "66b5499f",
   "metadata": {},
   "outputs": [],
   "source": []
  }
 ],
 "metadata": {
  "kernelspec": {
   "display_name": "Python 3 (ipykernel)",
   "language": "python",
   "name": "python3"
  },
  "language_info": {
   "codemirror_mode": {
    "name": "ipython",
    "version": 3
   },
   "file_extension": ".py",
   "mimetype": "text/x-python",
   "name": "python",
   "nbconvert_exporter": "python",
   "pygments_lexer": "ipython3",
   "version": "3.9.7"
  }
 },
 "nbformat": 4,
 "nbformat_minor": 5
}
